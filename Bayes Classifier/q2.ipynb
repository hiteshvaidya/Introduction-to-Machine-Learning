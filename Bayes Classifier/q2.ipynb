{
 "cells": [
  {
   "cell_type": "code",
   "execution_count": 1,
   "metadata": {},
   "outputs": [],
   "source": [
    "import numpy as np\n",
    "import pandas as pd\n",
    "import math"
   ]
  },
  {
   "cell_type": "code",
   "execution_count": 75,
   "metadata": {},
   "outputs": [],
   "source": [
    "def calculate(data, attributes):\n",
    "    \"\"\"\n",
    "    Calculate all the model parameters\n",
    "    \"\"\"\n",
    "    probabilities = {}\n",
    "\n",
    "    prob_false = len(data[np.where(data[:,-1] == False)])/len(data)\n",
    "    prob_true = len(data[np.where(data[:,-1] == True)])/len(data)\n",
    "    true_num = len(data[np.where(data[:,-1] == True)])\n",
    "    false_num = len(data[np.where(data[:,-1] == False)])\n",
    "    \n",
    "    for index, att in enumerate(attributes[:-1]):\n",
    "        if att in [' # sentences', ' # words']:\n",
    "            mu_T = np.mean(data[np.where(data[:,-1]==True),index])\n",
    "            sigma_T = np.var(data[np.where(data[:,-1]==True),index])\n",
    "            mu_F = np.mean(data[np.where(data[:,-1]==False),index])\n",
    "            sigma_F = np.var(data[np.where(data[:,-1]==False),index])\n",
    "            probabilities[att] = np.array([[mu_T, sigma_T], [mu_F, sigma_F]])\n",
    "        else:\n",
    "            TT = float(len(data[np.where((data[:,index]==True) & (data[:,-1]==True))]) / true_num)\n",
    "            TF = float(len(data[np.where((data[:,index]==True) & (data[:,-1]==False))]) / false_num)\n",
    "            FT = float(len(data[np.where((data[:,index]==False) & (data[:,-1]==True))]) / true_num)\n",
    "            FF = float(len(data[np.where((data[:,index]==False) & (data[:,-1]==False))]) / false_num)\n",
    "            probabilities[att] = np.array([[TT, TF], [FT, FF]])\n",
    "    return prob_true, prob_false, probabilities"
   ]
  },
  {
   "cell_type": "code",
   "execution_count": 76,
   "metadata": {},
   "outputs": [],
   "source": [
    "def test(prob_true, prob_false, probabilities, test_data, attributes):\n",
    "    \"\"\"\n",
    "    Test the model on given test data\n",
    "    \"\"\"\n",
    "    correct = 0\n",
    "    total = len(test_data)\n",
    "\n",
    "    for row in range(len(test_data)):\n",
    "        output = None\n",
    "        pred_T = prob_true\n",
    "        pred_F = prob_false\n",
    "        for index,col in enumerate(attributes[:-1]):\n",
    "            if index == 6 or index == 7:\n",
    "                denom = (2*math.pi*probabilities[col][0,1])**.5\n",
    "                num = math.exp(-(float(test_data[row,index])-float(probabilities[col][0,0]))**2/(2*probabilities[col][0,1]))\n",
    "                pred_T *= (num/denom)\n",
    "                denom = (2*math.pi*probabilities[col][1,1])**.5\n",
    "                3num = math.exp(-(float(test_data[row,index])-float(probabilities[col][1,0]))**2/(2*probabilities[col][1,1]))\n",
    "                pred_F *= (num/denom)\n",
    "            else:\n",
    "                if test_data[row, index]:\n",
    "                    pred_T *= probabilities[col][0,0]\n",
    "                    pred_F *= probabilities[col][0,1]\n",
    "                else:\n",
    "                    pred_T *= probabilities[col][1,0]\n",
    "                    pred_F *= probabilities[col][1,1]\n",
    "        pred_T /= (pred_T+pred_F)\n",
    "        pred_F /= (pred_T+pred_F)\n",
    "        if pred_T > pred_F:\n",
    "            output = True\n",
    "        else:\n",
    "            output = False\n",
    "        if output == data[row,-1]:\n",
    "            correct += 1\n",
    "\n",
    "    return round(correct/total, 2)"
   ]
  },
  {
   "cell_type": "code",
   "execution_count": 77,
   "metadata": {},
   "outputs": [],
   "source": [
    "'''\n",
    "Read the train dataset to calculate model parameters\n",
    "'''\n",
    "data = pd.read_csv('q3.csv', header=0, index_col=False)\n",
    "attributes = data.columns\n",
    "data = data.to_numpy()\n",
    "\n",
    "# Calculate model parameters by calling calculate()\n",
    "prob_true, prob_false, probabilities = calculate(data, attributes)"
   ]
  },
  {
   "cell_type": "code",
   "execution_count": 79,
   "metadata": {},
   "outputs": [
    {
     "name": "stdout",
     "output_type": "stream",
     "text": [
      "Parameters:\n",
      "True and False probability: 0.172 0.828\n",
      "For each attribute:\n",
      "in html :\n",
      " [[0.75581395 0.58695652]\n",
      " [0.24418605 0.41304348]]\n",
      " has emoji :\n",
      " [[0.19767442 0.147343  ]\n",
      " [0.80232558 0.852657  ]]\n",
      " sent to list :\n",
      " [[0.06976744 0.3115942 ]\n",
      " [0.93023256 0.6884058 ]]\n",
      " from .com :\n",
      " [[0.74418605 0.27536232]\n",
      " [0.25581395 0.72463768]]\n",
      " has my name :\n",
      " [[0.34883721 0.60144928]\n",
      " [0.65116279 0.39855072]]\n",
      " has sig :\n",
      " [[0.6627907 0.3236715]\n",
      " [0.3372093 0.6763285]]\n",
      " # sentences :\n",
      " [[3.97674419 3.7203894 ]\n",
      " [6.19082126 6.40078532]]\n",
      " # words :\n",
      " [[ 68.8372093   79.34559221]\n",
      " [ 70.7705314  912.76618474]]\n"
     ]
    }
   ],
   "source": [
    "print('Parameters:')\n",
    "print('True and False probability:', prob_true, prob_false)\n",
    "print('For each attribute:')\n",
    "for key,val in probabilities.items():\n",
    "    print(key,':\\n',val)"
   ]
  },
  {
   "cell_type": "code",
   "execution_count": 81,
   "metadata": {},
   "outputs": [
    {
     "name": "stdout",
     "output_type": "stream",
     "text": [
      "Test Accuracy = 0.43\n",
      "Loss = 0.5700000000000001\n"
     ]
    }
   ],
   "source": [
    "'''\n",
    "Read the test dataset\n",
    "'''\n",
    "test_data = pd.read_csv('q3b.csv', header=0, index_col=False)\n",
    "attributes = test_data.columns\n",
    "test_data = test_data.to_numpy()\n",
    "\n",
    "'''\n",
    "Run the model on test dataset by calling test()\n",
    "'''\n",
    "test_accuracy = test(prob_true, prob_false, probabilities, test_data, attributes)\n",
    "print('Test Accuracy =', test_accuracy)\n",
    "print('Loss =', 1-test_accuracy)"
   ]
  },
  {
   "cell_type": "code",
   "execution_count": 82,
   "metadata": {},
   "outputs": [],
   "source": [
    "\"\"\"\n",
    "Trying different combinations of attributes for getting better performance\n",
    "\"\"\"\n",
    "def subset(prob_true, prob_false, probabilities, test_data, attributes):\n",
    "    choices = np.array([[0,1,2],\n",
    "                       [2,4,5,6],\n",
    "                       [1,3,5],\n",
    "                       [3,7]])\n",
    "\n",
    "    exp_accuracies = []\n",
    "    for choice in choices:\n",
    "        print('choice:', choice)\n",
    "        temp = choice.append(8)\n",
    "        prob_true, prob_false, probabilities = calculate(data[:, choice], attributes[temp])\n",
    "        exp_accuracies.append(test(prob_true, prob_false, probabilities, test_data, attributes[temp]))\n",
    "\n",
    "    max_acc = max(exp_accuracies)\n",
    "    print('Maximum accuracy,', max_acc, 'for attributes:', choices[exp_accuracies.index(max_acc)])\n"
   ]
  },
  {
   "cell_type": "code",
   "execution_count": 83,
   "metadata": {},
   "outputs": [
    {
     "name": "stdout",
     "output_type": "stream",
     "text": [
      "choice: [0, 1, 2]\n",
      "choice: [2, 4, 5, 6]\n",
      "choice: [1, 3, 5]\n",
      "choice: [3, 7]\n",
      "Maximum accuracy, 0.81 for attributes: [0, 1, 2, 8]\n"
     ]
    }
   ],
   "source": [
    "# calling subset function to get which combination/subset of attributes give better results\n",
    "subset(prob_true, prob_false, probabilities, test_data, attributes)"
   ]
  },
  {
   "cell_type": "code",
   "execution_count": null,
   "metadata": {},
   "outputs": [],
   "source": []
  }
 ],
 "metadata": {
  "kernelspec": {
   "display_name": "pyTorchProjects",
   "language": "python",
   "name": "pytorchprojects"
  },
  "language_info": {
   "codemirror_mode": {
    "name": "ipython",
    "version": 3
   },
   "file_extension": ".py",
   "mimetype": "text/x-python",
   "name": "python",
   "nbconvert_exporter": "python",
   "pygments_lexer": "ipython3",
   "version": "3.7.3"
  }
 },
 "nbformat": 4,
 "nbformat_minor": 2
}
